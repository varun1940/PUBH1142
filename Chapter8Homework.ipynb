{
 "cells": [
  {
   "cell_type": "markdown",
   "metadata": {},
   "source": [
    "## Week 8 Homework"
   ]
  },
  {
   "cell_type": "markdown",
   "metadata": {},
   "source": [
    "> Varun Pandey\n",
    "> 03/18/2024"
   ]
  },
  {
   "cell_type": "markdown",
   "metadata": {},
   "source": [
    "### Questions"
   ]
  },
  {
   "cell_type": "code",
   "execution_count": null,
   "metadata": {},
   "outputs": [],
   "source": [
    "# 1. How do you import the pandas library in Python? \n",
    "import pandas as pd\n",
    "\n",
    "# 2. How do you read a CSV file named data.csv into a pandas DataFrame?\n",
    "df = pd.read_csv('data.csv')\n",
    "\n",
    "# 3. How do you display the first rows of a DataFrame named df?\n",
    "print(df.head())\n",
    "\n",
    "# 4. How do you find the number of rows and columns in a DataFrame df?\n",
    "print(df.shape)\n",
    "\n",
    "# 5. How do you print the names of all the columns in a DataFrame df?\n",
    "print(df.columns)\n",
    "\n",
    "# 6. How do you get the summary information of the DataFrame df including data types and non-null values?\n",
    "print(df.info())\n",
    "\n",
    "# 7. How do you select only the rows in DataFrame df where the column A is greater than?\n",
    "print(df[df['A'] > 0])\n",
    "\n",
    "# 8. How do you select the columns A and B from the DataFrame df?\n",
    "print(df[['A', 'B']])\n",
    "\n",
    "# 9. How do you rename the column A to Alpha in DataFrame df?\n",
    "df.rename(columns={'A': 'Alpha'}, inplace=True)\n",
    "\n",
    "# 10. How do you replace all occurrences of the value in DataFrame df with nan?\n",
    "df.replace('value', 'nan', inplace=True)\n",
    "\n",
    "# 11. How do you drop all rows in DataFrame df that contain missing values?\n",
    "df.dropna(inplace=True)\n",
    "\n",
    "# 12. How do you fill all missing values in DataFrame df with?\n",
    "df.fillna('value', inplace=True)\n",
    "\n",
    "# 13. How do you calculate the mean of column A in DataFrame df?\n",
    "print(df['A'].mean())\n",
    "\n",
    "# 14. How do you create a new column C in DataFrame df that is the sum of columns A and B?\n",
    "df['C'] = df['A'] + df['B']\n",
    "\n",
    "# 15. How do you save the DataFrame df to a CSV file named output.csv? (Find the solution by searching the pandas documentation.)\n",
    "df.to_csv('output.csv', index=False)\n"
   ]
  }
 ],
 "metadata": {
  "language_info": {
   "name": "python"
  }
 },
 "nbformat": 4,
 "nbformat_minor": 2
}
