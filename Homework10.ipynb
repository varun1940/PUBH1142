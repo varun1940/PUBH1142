{
 "cells": [
  {
   "cell_type": "markdown",
   "metadata": {},
   "source": [
    "## Week 10 Homework"
   ]
  },
  {
   "cell_type": "markdown",
   "metadata": {},
   "source": [
    "> Varun Pandey"
   ]
  },
  {
   "cell_type": "markdown",
   "metadata": {},
   "source": [
    "> March 2, 2024"
   ]
  },
  {
   "cell_type": "code",
   "execution_count": 1,
   "metadata": {},
   "outputs": [],
   "source": [
    "# 1. How do you import the Seaborn package in Python?\n",
    "\n",
    "# import seaborn as sns"
   ]
  },
  {
   "cell_type": "code",
   "execution_count": null,
   "metadata": {},
   "outputs": [],
   "source": [
    "# 2. How do you create a scatter plot in Seaborn for variables x and y in a DataFrame df?\n",
    "\n",
    "# sns.scatterplot(x='x', y='y', data=df)"
   ]
  },
  {
   "cell_type": "code",
   "execution_count": null,
   "metadata": {},
   "outputs": [],
   "source": [
    "# 3. How do you create a line plot in Seaborn for variables x and y in a DataFrame df?\n",
    "\n",
    "# sns.lineplot(x='x', y='y', data=df)"
   ]
  },
  {
   "cell_type": "code",
   "execution_count": 4,
   "metadata": {},
   "outputs": [],
   "source": [
    "# 4. How do you create a histogram in Seaborn for a variable x in a DataFrame df?\n",
    "\n",
    "# sns.histplot(x='x', data=df)\n"
   ]
  },
  {
   "cell_type": "code",
   "execution_count": 5,
   "metadata": {},
   "outputs": [],
   "source": [
    "# 5. How do you create a stacked histogram in Seaborn for variables x and 'hue' y in a DataFrame df?\n",
    "\n",
    "# sns.histplot(x='x', hue='y', data=df, multiple='stack')"
   ]
  },
  {
   "cell_type": "code",
   "execution_count": 6,
   "metadata": {},
   "outputs": [],
   "source": [
    "# 6. How do you create a heatmap in Seaborn for a variable x and y in a DataFrame df?\n",
    "\n",
    "# sns.heatmap(data=df)"
   ]
  },
  {
   "cell_type": "code",
   "execution_count": 7,
   "metadata": {},
   "outputs": [],
   "source": [
    "# 7. How do you create a box plot in Seaborn for variables x and y in a DataFrame df?\n",
    "\n",
    "# sns.boxplot(x='x', y='y', data=df)"
   ]
  },
  {
   "cell_type": "code",
   "execution_count": 8,
   "metadata": {},
   "outputs": [],
   "source": [
    "# 8. How do you create a violin plot in Seaborn for variables x and y in a DataFrame df?\n",
    "\n",
    "# sns.violinplot(x='x', y='y', data=df)"
   ]
  },
  {
   "cell_type": "code",
   "execution_count": 9,
   "metadata": {},
   "outputs": [],
   "source": [
    "# 9. How do you create a bar plot in Seaborn for variables x and y in a DataFrame df?\n",
    "\n",
    "# sns.barplot(x='x', y='y', data=df)"
   ]
  },
  {
   "cell_type": "code",
   "execution_count": 10,
   "metadata": {},
   "outputs": [],
   "source": [
    "# 10. How do you add a title to a Seaborn plot assigned to the variable ax with the title 'My Title'?\n",
    "\n",
    "# ax.set_title('My Title')"
   ]
  },
  {
   "cell_type": "code",
   "execution_count": 11,
   "metadata": {},
   "outputs": [],
   "source": [
    "# 11. How do you save a Seaborn plot ax to a file named 'output.png'?\n",
    "\n",
    "# ax.figure.savefig('output.png')"
   ]
  },
  {
   "cell_type": "code",
   "execution_count": 12,
   "metadata": {},
   "outputs": [],
   "source": [
    "# 12. How do you set the x and y axis labels to 'X Label' and 'Y Label' respectively for a Seaborn plot ax?\n",
    "\n",
    "# ax.set_xlabel('X Label')"
   ]
  },
  {
   "cell_type": "code",
   "execution_count": 13,
   "metadata": {},
   "outputs": [],
   "source": [
    "# 13. How do you change the color palette of a Seaborn plot to 'Blues'?\n",
    "\n",
    "# sns.set_palette('Blues')"
   ]
  },
  {
   "cell_type": "code",
   "execution_count": 14,
   "metadata": {},
   "outputs": [],
   "source": [
    "# 14. How do you display a Seaborn plot with a logarithmic scale on the y-axis?\n",
    "\n",
    "# ax.set_yscale('log')"
   ]
  },
  {
   "cell_type": "code",
   "execution_count": 15,
   "metadata": {},
   "outputs": [],
   "source": [
    "# 15. How do you add a regression line to a scatter plot in Seaborn for variables x and y in a DataFrame df?\n",
    "\n",
    "# sns.regplot(x='x', y='y', data=df)"
   ]
  }
 ],
 "metadata": {
  "kernelspec": {
   "display_name": "Python 3",
   "language": "python",
   "name": "python3"
  },
  "language_info": {
   "codemirror_mode": {
    "name": "ipython",
    "version": 3
   },
   "file_extension": ".py",
   "mimetype": "text/x-python",
   "name": "python",
   "nbconvert_exporter": "python",
   "pygments_lexer": "ipython3",
   "version": "3.11.7"
  }
 },
 "nbformat": 4,
 "nbformat_minor": 2
}
